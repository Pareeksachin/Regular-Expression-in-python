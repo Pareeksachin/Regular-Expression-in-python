{
 "cells": [
  {
   "cell_type": "code",
   "execution_count": 1,
   "metadata": {},
   "outputs": [],
   "source": [
    "# A regular Expression is a string that contains special symbols and char to find and extract the information needed by us from the given data.\n",
    "# It is useful to search info ,match,find and split inforamtion as per our requirment \n",
    "# it is also called simply regex\n",
    "# module \"re\" is for regular expression\n",
    "# it contains compile(),search(),match(),findall(),split()"
   ]
  },
  {
   "cell_type": "code",
   "execution_count": null,
   "metadata": {},
   "outputs": [],
   "source": [
    "import re\n"
   ]
  },
  {
   "cell_type": "code",
   "execution_count": null,
   "metadata": {},
   "outputs": [],
   "source": [
    "# Regular expression look like this :\n",
    "reg= r'm\\w\\w' # prefix r represent that it is raw string\n",
    "# m= the word starting with m should be matched\n",
    "#  first w =one char from A-Z,a-z,0-9\n",
    "# second w = char after m"
   ]
  },
  {
   "cell_type": "code",
   "execution_count": 4,
   "metadata": {},
   "outputs": [
    {
     "data": {
      "text/plain": [
       "'this is sachin\\\\n how are u bro ?'"
      ]
     },
     "execution_count": 4,
     "metadata": {},
     "output_type": "execute_result"
    }
   ],
   "source": [
    "import re\n",
    "str=r\"this is sachin\\n how are u bro ?\"\n",
    "str"
   ]
  },
  {
   "cell_type": "code",
   "execution_count": 10,
   "metadata": {},
   "outputs": [
    {
     "name": "stdout",
     "output_type": "stream",
     "text": [
      "mat\n"
     ]
    }
   ],
   "source": [
    "# match() : it serach the item from begining and show the output\n",
    "# search() : it searches the string from begining till the end\n",
    "import re\n",
    "str= 'cat mat bat rat'\n",
    "prog=re.compile(r'm\\w\\w')\n",
    "result=prog.search(str)\n",
    "print(result.group())"
   ]
  },
  {
   "cell_type": "code",
   "execution_count": null,
   "metadata": {},
   "outputs": [],
   "source": [
    "# regular exp after comilation is availabel in prog object \n",
    "# no need to compile every time"
   ]
  },
  {
   "cell_type": "code",
   "execution_count": 12,
   "metadata": {},
   "outputs": [
    {
     "name": "stdout",
     "output_type": "stream",
     "text": [
      "mat\n"
     ]
    }
   ],
   "source": [
    "# use same regular exp on a different string\n",
    "str1=\"Operating system foramat\"\n",
    "result=prog.search(str1)\n",
    "print(result.group())"
   ]
  },
  {
   "cell_type": "code",
   "execution_count": 13,
   "metadata": {},
   "outputs": [
    {
     "name": "stdout",
     "output_type": "stream",
     "text": [
      "man\n"
     ]
    }
   ],
   "source": [
    "str1=\"man sun mop run\"\n",
    "prog=re.compile(r'm\\w\\w')\n",
    "result=prog.search(str1)\n",
    "print(result.group())\n"
   ]
  },
  {
   "cell_type": "code",
   "execution_count": null,
   "metadata": {},
   "outputs": [],
   "source": [
    "prog=re.compile(r'm\\w\\w')\n",
    "result=prog.search(str1) \n",
    "   instead of this we can use it directly\n",
    "result=re.search('r m\\w\\w',str1)"
   ]
  },
  {
   "cell_type": "code",
   "execution_count": 2,
   "metadata": {},
   "outputs": [
    {
     "name": "stdout",
     "output_type": "stream",
     "text": [
      "man\n"
     ]
    }
   ],
   "source": [
    "import re\n",
    "str=\"man sun mop run\"\n",
    "result=re.search(r'm\\w\\w',str)\n",
    "if result: # if result is not none\n",
    "    print(result.group())"
   ]
  },
  {
   "cell_type": "code",
   "execution_count": 6,
   "metadata": {},
   "outputs": [
    {
     "name": "stdout",
     "output_type": "stream",
     "text": [
      "['man', 'mop']\n"
     ]
    }
   ],
   "source": [
    "# it search only a single a element \n",
    "# to find out all the elements use findall()\n",
    "# find all return a list as output\n",
    "import re\n",
    "str=\"man sun mop run\"\n",
    "result=re.findall(r'm\\w\\w', str)\n",
    "if result: # if result is not none\n",
    "    print(result)"
   ]
  },
  {
   "cell_type": "code",
   "execution_count": 7,
   "metadata": {},
   "outputs": [
    {
     "name": "stdout",
     "output_type": "stream",
     "text": [
      "['man', 'mop']\n"
     ]
    }
   ],
   "source": [
    "import re\n",
    "str=\"man sun mop run\"\n",
    "result=re.findall(r'm\\w\\w', str)\n",
    "#if result: # if result is not none\n",
    "print(result)"
   ]
  },
  {
   "cell_type": "code",
   "execution_count": 8,
   "metadata": {},
   "outputs": [
    {
     "name": "stdout",
     "output_type": "stream",
     "text": [
      "man\n"
     ]
    }
   ],
   "source": [
    "import re\n",
    "str=\"man sun mop run\"\n",
    "result=re.match(r'm\\w\\w', str)\n",
    "print(result.group())"
   ]
  },
  {
   "cell_type": "code",
   "execution_count": 9,
   "metadata": {},
   "outputs": [
    {
     "name": "stdout",
     "output_type": "stream",
     "text": [
      "<re.Match object; span=(0, 3), match='man'>\n"
     ]
    }
   ],
   "source": [
    "import re\n",
    "str=\"man sun mop run\"\n",
    "result=re.match(r'm\\w\\w', str)\n",
    "print(result)"
   ]
  },
  {
   "cell_type": "code",
   "execution_count": 1,
   "metadata": {},
   "outputs": [
    {
     "name": "stdout",
     "output_type": "stream",
     "text": [
      "['Ram', 'aam', '90', 'khata', 'h']\n"
     ]
    }
   ],
   "source": [
    " # split() : splits the given string in to pieces\n",
    "# 'w' : represents any one alphanumeric char A-Z,a-z,0-9\n",
    "# '\\W+' : here '+' represents to match 1 or more accurences indicated by W\n",
    "\n",
    "# ques : create a RegExp to split a string in to pieces where one or more non alphanumeric char are found\n",
    "import re\n",
    "str=\"Ram :\\'aam' 90 khata h\"\n",
    "\n",
    "result=re.split(r'\\W+',str)\n",
    "print(result)"
   ]
  },
  {
   "cell_type": "code",
   "execution_count": 2,
   "metadata": {},
   "outputs": [
    {
     "name": "stdout",
     "output_type": "stream",
     "text": [
      "Sachin Pareek is a good boy\n"
     ]
    }
   ],
   "source": [
    "# sub() : this method substitues new strings in the place of existing strings,after substitution the main string is returned by this method\n",
    "import re\n",
    "str=\"Sachin Pareek is a bad boy\"\n",
    "res=re.sub(r'bad','good',str)\n",
    "print(res)"
   ]
  },
  {
   "cell_type": "code",
   "execution_count": null,
   "metadata": {},
   "outputs": [],
   "source": [
    "# regular expression are used to perfrom the following operations:\n",
    "1. matching string\n",
    "2. searching the string\n",
    "3. finding all string\n",
    "4. splitting a string\n",
    "5. replacing the string"
   ]
  },
  {
   "cell_type": "code",
   "execution_count": null,
   "metadata": {},
   "outputs": [],
   "source": [
    "# r'a[\\w]* = here \\w represent only one alphanumeric char and 'a' represnt that the string start from a,and '*' represent 0 or more repetitions\n"
   ]
  },
  {
   "cell_type": "code",
   "execution_count": 3,
   "metadata": {},
   "outputs": [
    {
     "name": "stdout",
     "output_type": "stream",
     "text": [
      "an\n",
      "apple\n",
      "a\n",
      "at\n",
      "away\n"
     ]
    }
   ],
   "source": [
    "# create a Reg Exp to retrieve all the words that staring from a\n",
    "import re\n",
    "str=\"an apple a dat keeps the doctor away\"\n",
    "result=re.findall(r'a[\\w]*',str)\n",
    "for word in result:\n",
    "    print(word)\n",
    "    \n",
    "# here away contains ay and away both "
   ]
  },
  {
   "cell_type": "code",
   "execution_count": 4,
   "metadata": {},
   "outputs": [
    {
     "name": "stdout",
     "output_type": "stream",
     "text": [
      "an\n",
      "apple\n",
      "a\n",
      "away\n"
     ]
    }
   ],
   "source": [
    "# here it fatches the at from dat ,if we don't want this then we can use\n",
    "# \\b : it reprents the space\n",
    "import re\n",
    "str=\"an apple a dat keeps the doctor away\"\n",
    "result=re.findall(r'\\ba[\\w]*\\b',str)\n",
    "for word in result:\n",
    "    print(word)"
   ]
  },
  {
   "cell_type": "code",
   "execution_count": 5,
   "metadata": {},
   "outputs": [
    {
     "name": "stdout",
     "output_type": "stream",
     "text": [
      "8pm\n",
      "2nd\n"
     ]
    }
   ],
   "source": [
    "# to retrive the word starting with a numeric digit then we have to use \\d\n",
    "# \\d : it represents the numeric digit\n",
    "import re\n",
    "str=\"this meeting will conducted at 8pm on 2nd august \"\n",
    "res=re.findall(r'\\d[\\w]*',str)\n",
    "for word in res:\n",
    "    print(word)"
   ]
  },
  {
   "cell_type": "code",
   "execution_count": 6,
   "metadata": {},
   "outputs": [
    {
     "name": "stdout",
     "output_type": "stream",
     "text": [
      "august\n"
     ]
    }
   ],
   "source": [
    "# if we want to retrive the word having length 6\n",
    "import re\n",
    "str=\"this meeting will conducted at 8pm on 2nd august \"\n",
    "res=re.findall(r'\\b\\w{6}\\b',str)\n",
    "for word in res:\n",
    "    print(word)"
   ]
  },
  {
   "cell_type": "code",
   "execution_count": 7,
   "metadata": {},
   "outputs": [
    {
     "name": "stdout",
     "output_type": "stream",
     "text": [
      "august\n"
     ]
    }
   ],
   "source": [
    "# using search mathod\n",
    "import re\n",
    "str=\"this meeting will conducted at 8pm on 2nd august \"\n",
    "res=re.search(r'\\b\\w{6}\\b',str)\n",
    "print(res.group())"
   ]
  },
  {
   "cell_type": "code",
   "execution_count": 9,
   "metadata": {},
   "outputs": [
    {
     "name": "stdout",
     "output_type": "stream",
     "text": [
      "this\n",
      "meeting\n",
      "will\n",
      "conducted\n",
      "august\n"
     ]
    }
   ],
   "source": [
    "# if we want to retieve the 2 or more length word\n",
    "import re\n",
    "str=\"this meeting will conducted at 8pm on 2nd august \"\n",
    "res=re.findall(r'\\b\\w{4,}\\b',str)\n",
    "for word in res:\n",
    "    print(word)"
   ]
  },
  {
   "cell_type": "code",
   "execution_count": 10,
   "metadata": {},
   "outputs": [
    {
     "name": "stdout",
     "output_type": "stream",
     "text": [
      "this\n",
      "will\n",
      "8pm\n",
      "2nd\n",
      "august\n"
     ]
    }
   ],
   "source": [
    "# if we want to retrieve the 3 to 6 length word\n",
    "import re\n",
    "str=\"this meeting will conducted at 8pm on 2nd august \"\n",
    "res=re.findall(r'\\b\\w{3,6}\\b',str)\n",
    "for word in res:\n",
    "    print(word)"
   ]
  },
  {
   "cell_type": "code",
   "execution_count": 11,
   "metadata": {},
   "outputs": [
    {
     "name": "stdout",
     "output_type": "stream",
     "text": [
      "8\n",
      "2\n",
      "4\n",
      "7\n",
      "9\n"
     ]
    }
   ],
   "source": [
    "# retrieve only single digit number from a string\n",
    "import re\n",
    "str=\"this meeting will conducted at 8 pm on 2 nd august 4 7 9\"\n",
    "res=re.findall(r'\\b\\d\\b',str)\n",
    "for word in res:\n",
    "    print(word)"
   ]
  },
  {
   "cell_type": "code",
   "execution_count": 13,
   "metadata": {},
   "outputs": [
    {
     "name": "stdout",
     "output_type": "stream",
     "text": [
      "['8', '2', '4', '7', '9']\n"
     ]
    }
   ],
   "source": [
    "import re\n",
    "str=\"this meeting will conducted at 8 pm on 2 nd august 4 7 9\"\n",
    "res=re.findall(r'\\b\\d\\b',str)\n",
    "print(res)\n",
    "# to fatch in string "
   ]
  },
  {
   "cell_type": "code",
   "execution_count": 14,
   "metadata": {},
   "outputs": [
    {
     "name": "stdout",
     "output_type": "stream",
     "text": [
      "[]\n"
     ]
    }
   ],
   "source": [
    " # \\A is useful to match the word at the begining of a string \n",
    "# \\Z is useful to match the word at the end of the string\n",
    "# Create a reg Exp to retrieve the last word that start from p\n",
    "import re\n",
    "str=\"this meeting will conducted at 8 pm on 2 nd august\"\n",
    "res=re.findall(r'p[\\w]*\\Z',str)\n",
    "print(res)"
   ]
  },
  {
   "cell_type": "code",
   "execution_count": 15,
   "metadata": {},
   "outputs": [
    {
     "name": "stdout",
     "output_type": "stream",
     "text": [
      "['august']\n"
     ]
    }
   ],
   "source": [
    "import re\n",
    "str=\"this meeting will conducted at 8 pm on 2 nd august\"\n",
    "res=re.findall(r'a[\\w]*\\Z',str)\n",
    "print(res)"
   ]
  },
  {
   "cell_type": "code",
   "execution_count": 18,
   "metadata": {},
   "outputs": [
    {
     "name": "stdout",
     "output_type": "stream",
     "text": [
      "['this']\n"
     ]
    }
   ],
   "source": [
    "import re\n",
    "str=\"this meeting will conducted at 8 pm on 2 nd august\"\n",
    "res=re.findall(r'\\At[\\w]*',str)\n",
    "print(res)"
   ]
  },
  {
   "cell_type": "code",
   "execution_count": 19,
   "metadata": {},
   "outputs": [],
   "source": [
    "# quantifiers in Regular Expression \n",
    "# In regular expression ,some characters represnts more than one char to be matched in the string,such char are called quantifiers\n"
   ]
  },
  {
   "cell_type": "code",
   "execution_count": null,
   "metadata": {},
   "outputs": [],
   "source": [
    " # '+' is represnt 1 or more repetitions of the preceding char \n",
    "# for Exp: r'\\d+': this indicates that al numeric degits which accures for 1 or more time should be extracted"
   ]
  },
  {
   "cell_type": "code",
   "execution_count": 20,
   "metadata": {},
   "outputs": [
    {
     "name": "stdout",
     "output_type": "stream",
     "text": [
      "['9928871084']\n"
     ]
    }
   ],
   "source": [
    "# a Reg Exp that retrieve tha phone number of a person\n",
    "import re\n",
    "str=\"Sachin Pareek 9928871084\"\n",
    "res=re.findall(r'\\d+',str)\n",
    "print(res)"
   ]
  },
  {
   "cell_type": "code",
   "execution_count": 21,
   "metadata": {},
   "outputs": [
    {
     "name": "stdout",
     "output_type": "stream",
     "text": [
      "['Sachin Pareek ']\n"
     ]
    }
   ],
   "source": [
    "# retrieve the remaining part expect from phone number\n",
    "import re\n",
    "str=\"Sachin Pareek 9928871084\"\n",
    "res=re.findall(r'\\D+',str)\n",
    "print(res)"
   ]
  },
  {
   "cell_type": "code",
   "execution_count": 22,
   "metadata": {},
   "outputs": [
    {
     "name": "stdout",
     "output_type": "stream",
     "text": [
      "['anil', 'akhil', 'ankit', 'ankur']\n"
     ]
    }
   ],
   "source": [
    "# Create a regular Exp to find all words that start from 'ak' or 'an'\n",
    "import re\n",
    "str=\"anil akhil ankit arati ankur abhijeet\"\n",
    "res=re.findall(r'a[nk][\\w]*',str)\n",
    "print(res)"
   ]
  },
  {
   "cell_type": "code",
   "execution_count": 23,
   "metadata": {},
   "outputs": [
    {
     "name": "stdout",
     "output_type": "stream",
     "text": [
      "['04-09-2002', '12-12-2008']\n"
     ]
    }
   ],
   "source": [
    "# create a regular expression to retrieve the date of births from a string\n",
    "import re\n",
    "str=\"sachin 8-9-2000 rajesh 04-09-2002 rakesh 12-12-2008\"\n",
    "res=re.findall(r'\\d{2}-\\d{2}-\\d{4}',str)\n",
    "print(res)"
   ]
  },
  {
   "cell_type": "code",
   "execution_count": 26,
   "metadata": {},
   "outputs": [
    {
     "name": "stdout",
     "output_type": "stream",
     "text": [
      "['8-9-2000', '04-09-2002', '12-12-2008']\n"
     ]
    }
   ],
   "source": [
    "import re\n",
    "str=\"sachin 8-9-2000 rajesh 04-09-2002 rakesh 12-12-2008\"\n",
    "res=re.findall(r'\\d{1,2}-\\d{1,2}-\\d{4}',str)\n",
    "print(res)"
   ]
  },
  {
   "cell_type": "code",
   "execution_count": 27,
   "metadata": {},
   "outputs": [
    {
     "name": "stdout",
     "output_type": "stream",
     "text": [
      "Hello Sachin\n"
     ]
    }
   ],
   "source": [
    "# carat(^) : it is useful to check a string is starting with a sbustring or not\n",
    "import re\n",
    "str=\"Hello Sachin\"\n",
    "res=re.search(r'^He',str)\n",
    "print(str)"
   ]
  },
  {
   "cell_type": "code",
   "execution_count": 28,
   "metadata": {},
   "outputs": [
    {
     "name": "stdout",
     "output_type": "stream",
     "text": [
      "Hello Sachin\n"
     ]
    }
   ],
   "source": [
    "# regular expression conduct a case sensitive searching for the string\n",
    "import re\n",
    "str=\"Hello Sachin\"\n",
    "res=re.search(r'Sachin$',str)\n",
    "if res:\n",
    "    print(str)\n",
    "else:\n",
    "    print(\"string doesn't ends with this word 'sachin'\")"
   ]
  },
  {
   "cell_type": "code",
   "execution_count": 30,
   "metadata": {},
   "outputs": [
    {
     "name": "stdout",
     "output_type": "stream",
     "text": [
      "does n't ends with sachin word\n"
     ]
    }
   ],
   "source": [
    "import re\n",
    "str=\"Hello Sachin\"\n",
    "res=re.search(r'sachin$',str)\n",
    "if res:\n",
    "    print(\"string ends with 'sachin'\")\n",
    "else:\n",
    "    print(\"does n't ends with sachin word\")\n",
    "# case sensitive searching"
   ]
  },
  {
   "cell_type": "code",
   "execution_count": 31,
   "metadata": {},
   "outputs": [
    {
     "name": "stdout",
     "output_type": "stream",
     "text": [
      "string ends with 'sachin'\n"
     ]
    }
   ],
   "source": [
    "# specify a case insensitive case matching string we have to use the function IGNORECASE() method\n",
    "\n",
    "import re\n",
    "str=\"Hello Sachin\"\n",
    "res=re.search(r'sachin$',str,re.IGNORECASE)\n",
    "if res:\n",
    "    print(\"string ends with 'sachin'\")\n",
    "else:\n",
    "    print(\"does n't ends with sachin word\")\n"
   ]
  },
  {
   "cell_type": "code",
   "execution_count": null,
   "metadata": {},
   "outputs": [],
   "source": [
    "\n",
    "# [] it shows in regular expression represnts a set of char\n",
    "#[ABC] : represent any one char A or B or C\n",
    "# [A-Z][a-z]* \n",
    "\n"
   ]
  },
  {
   "cell_type": "code",
   "execution_count": 32,
   "metadata": {},
   "outputs": [
    {
     "name": "stdout",
     "output_type": "stream",
     "text": [
      "['99', '80', '99']\n",
      "['Sachin', 'Vijay', 'Ram']\n"
     ]
    }
   ],
   "source": [
    "# create a regular expression to retrieve marks and names from a given string\n",
    "import re\n",
    "str=\"Sachin got 99 marks ,Vijay got 80 marks ,Ram got 99 marks\"\n",
    "marks=re.findall('\\d{2}',str)\n",
    "print(marks)\n",
    "names=re.findall('[A-Z][a-z]*',str)\n",
    "print(names)"
   ]
  },
  {
   "cell_type": "code",
   "execution_count": 33,
   "metadata": {},
   "outputs": [
    {
     "name": "stdout",
     "output_type": "stream",
     "text": [
      "['8am', '9am', '4pm']\n"
     ]
    }
   ],
   "source": [
    "# create a regular expression to retrieve the timing either 'am' or 'pm' from a given string\n",
    "import re\n",
    "str=\"the meeting may be at 8am or 9am or 4pm \"\n",
    "res=re.findall(r'\\dam|\\dpm',str)\n",
    "print(res)"
   ]
  },
  {
   "cell_type": "code",
   "execution_count": null,
   "metadata": {},
   "outputs": [],
   "source": [
    "# using regular exp on file\n",
    "\n",
    "# this a method through which we can read line by lines \n",
    "f=open('filename','r')\n",
    "for line in f:\n",
    "    res=re.findall(regexpression,line)\n",
    "if len(res)>0:\n",
    "    print(res)"
   ]
  },
  {
   "cell_type": "code",
   "execution_count": 34,
   "metadata": {},
   "outputs": [
    {
     "name": "stdout",
     "output_type": "stream",
     "text": [
      "['rkfiroda21.@gmail.com']\n"
     ]
    }
   ],
   "source": [
    "# \\S : it represents non-white space char\n",
    "## create a regular expression that read file and retrieve email id's \n",
    "f=open(\"textdata.txt\",'r')\n",
    "for line in f:\n",
    "    res=re.findall(r'\\S+@\\S+',line)\n",
    "if len(res)>0:\n",
    "    print(res)\n",
    "f.close()"
   ]
  },
  {
   "cell_type": "code",
   "execution_count": null,
   "metadata": {},
   "outputs": [],
   "source": [
    "# to retrieve info from a html file \n",
    "# to open the file we have to use urlopen() method of urllib.request\n",
    "import urllib.request\n",
    "f=urllib.request.urlopen(r'file:///f|py\\breakfast.html')"
   ]
  },
  {
   "cell_type": "code",
   "execution_count": 35,
   "metadata": {},
   "outputs": [],
   "source": [
    "# here file:///f|py\\breakfast.html\n",
    "# file:/// indicates file URL scheme that is used to refer to files in the local computer system\n",
    "# f|py indicates the drive name 'f' and the sub directory py"
   ]
  },
  {
   "cell_type": "code",
   "execution_count": null,
   "metadata": {},
   "outputs": [],
   "source": [
    "text=f.read()\n",
    "str=text.decode()"
   ]
  }
 ],
 "metadata": {
  "kernelspec": {
   "display_name": "Python 3",
   "language": "python",
   "name": "python3"
  },
  "language_info": {
   "codemirror_mode": {
    "name": "ipython",
    "version": 3
   },
   "file_extension": ".py",
   "mimetype": "text/x-python",
   "name": "python",
   "nbconvert_exporter": "python",
   "pygments_lexer": "ipython3",
   "version": "3.7.4"
  }
 },
 "nbformat": 4,
 "nbformat_minor": 2
}
